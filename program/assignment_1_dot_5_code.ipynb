{
 "cells": [
  {
   "cell_type": "code",
   "execution_count": null,
   "metadata": {},
   "outputs": [],
   "source": [
    "import os\n",
    "import tarfile\n",
    "import tempfile\n",
    "import joblib\n",
    "import numpy as np\n",
    "import pandas as pd\n",
    "from pathlib import Path\n",
    "from sklearn.compose import ColumnTransformer, make_column_selector\n",
    "from sklearn.impute import SimpleImputer\n",
    "from sklearn.pipeline import make_pipeline\n",
    "from sklearn.model_selection import train_test_split\n",
    "from sklearn.preprocessing import OneHotEncoder, StandardScaler, OrdinalEncoder\n",
    "\n",
    "df = _read_data_from_input_csv_files(base_directory)\n",
    "\n",
    "df_train, df_validation, df_test = _split_data2(df, 'species')\n",
    "\n",
    "target_transformer = ColumnTransformer(\n",
    "    transformers=[(\"species\", OrdinalEncoder(), [0])]\n",
    ")\n",
    "y_train = target_transformer.fit_transform(np.array(df_train.species.values).reshape(-1, 1))\n",
    "y_validation = target_transformer.transform(np.array(df_validation.species.values).reshape(-1, 1))\n",
    "y_test = target_transformer.transform(np.array(df_test.species.values).reshape(-1, 1))\n",
    "\n",
    "numeric_transformer = make_pipeline(\n",
    "    SimpleImputer(strategy=\"mean\"),\n",
    "    StandardScaler()\n",
    ")\n",
    "categorical_transformer = make_pipeline(\n",
    "    SimpleImputer(strategy=\"most_frequent\"),\n",
    "    OneHotEncoder()\n",
    ")\n",
    "features_transformer = ColumnTransformer(\n",
    "    transformers=[\n",
    "        (\"numeric\", numeric_transformer, make_column_selector(dtype_exclude=\"object\")),\n",
    "        (\"categorical\", categorical_transformer, [\"island\"]),\n",
    "    ]\n",
    ")\n",
    "\n",
    "X_train = features_transformer.fit_transform(df_train)\n",
    "X_validation = features_transformer.transform(df_validation)\n",
    "X_test = features_transformer.transform(df_test)\n",
    "\n",
    "train = np.concatenate((X_train, y_train), axis=1)\n",
    "validation = np.concatenate((X_validation, y_validation), axis=1)\n",
    "test = np.concatenate((X_test, y_test), axis=1)\n"
   ]
  },
  {
   "cell_type": "code",
   "execution_count": null,
   "metadata": {},
   "outputs": [],
   "source": []
  }
 ],
 "metadata": {
  "language_info": {
   "name": "python"
  }
 },
 "nbformat": 4,
 "nbformat_minor": 2
}
